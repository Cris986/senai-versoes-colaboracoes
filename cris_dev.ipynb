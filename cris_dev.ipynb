{
  "nbformat": 4,
  "nbformat_minor": 0,
  "metadata": {
    "colab": {
      "provenance": [],
      "authorship_tag": "ABX9TyPj2dw7AQjRTP4d+gs/r1pk",
      "include_colab_link": true
    },
    "kernelspec": {
      "name": "python3",
      "display_name": "Python 3"
    },
    "language_info": {
      "name": "python"
    }
  },
  "cells": [
    {
      "cell_type": "markdown",
      "metadata": {
        "id": "view-in-github",
        "colab_type": "text"
      },
      "source": [
        "<a href=\"https://colab.research.google.com/github/Cris986/senai-versoes-colaboracoes/blob/main/cris_dev.ipynb\" target=\"_parent\"><img src=\"https://colab.research.google.com/assets/colab-badge.svg\" alt=\"Open In Colab\"/></a>"
      ]
    },
    {
      "cell_type": "code",
      "execution_count": null,
      "metadata": {
        "id": "qorf28KQYDZF"
      },
      "outputs": [],
      "source": [
        "import plotly.express as px\n",
        "import plotly.graph_objects as go\n",
        "import seaborn as sns\n",
        "import matplotlib.pyplot as plt\n",
        "import pandas as pd\n",
        "import numpy as np"
      ]
    },
    {
      "cell_type": "code",
      "source": [
        "nome = 'Cris'\n",
        "idade = '37'\n",
        "município = 'Ibirama'\n",
        "profissão = 'empresário'\n"
      ],
      "metadata": {
        "id": "xFVQFt_i-cgv"
      },
      "execution_count": 12,
      "outputs": []
    },
    {
      "cell_type": "code",
      "source": [
        "nome + ' ' + idade + ' ' + município + ' ' + profissão"
      ],
      "metadata": {
        "colab": {
          "base_uri": "https://localhost:8080/",
          "height": 35
        },
        "id": "s1M4j3VU-5ya",
        "outputId": "6e6f19ea-6094-4ac1-8e01-1341d8104b59"
      },
      "execution_count": 19,
      "outputs": [
        {
          "output_type": "execute_result",
          "data": {
            "text/plain": [
              "'Cris 37 Ibirama empresário'"
            ],
            "application/vnd.google.colaboratory.intrinsic+json": {
              "type": "string"
            }
          },
          "metadata": {},
          "execution_count": 19
        }
      ]
    },
    {
      "cell_type": "code",
      "source": [
        "print('Oi, meu nome é ' + nome + '.' + 'Tenho ' + idade + ' anos.' + 'Venho do município de ' + município + ' e sou ' + profissão + '.')"
      ],
      "metadata": {
        "colab": {
          "base_uri": "https://localhost:8080/"
        },
        "id": "dei1zGIJ_gIz",
        "outputId": "358a9454-f283-403e-9754-089883362c4b"
      },
      "execution_count": 21,
      "outputs": [
        {
          "output_type": "stream",
          "name": "stdout",
          "text": [
            "Oi, meu nome é Cris.Tenho 37 anos.Venho do município de Ibirama e sou empresário.\n"
          ]
        }
      ]
    },
    {
      "cell_type": "markdown",
      "source": [],
      "metadata": {
        "id": "XKTWVCiLC7Yr"
      }
    },
    {
      "cell_type": "code",
      "source": [],
      "metadata": {
        "id": "3CTURXeMCryL"
      },
      "execution_count": null,
      "outputs": []
    },
    {
      "cell_type": "code",
      "source": [],
      "metadata": {
        "id": "yd3ySsBTCqFM"
      },
      "execution_count": null,
      "outputs": []
    },
    {
      "cell_type": "code",
      "source": [
        "a = 3*5\n",
        "b = 1\n",
        "c = 3+a\n",
        "print (c)"
      ],
      "metadata": {
        "id": "iIJWqHkialmc",
        "colab": {
          "base_uri": "https://localhost:8080/"
        },
        "outputId": "350d40f3-ebf3-4bcc-d8de-8bebc55fb886"
      },
      "execution_count": null,
      "outputs": [
        {
          "output_type": "stream",
          "name": "stdout",
          "text": [
            "18\n"
          ]
        }
      ]
    }
  ]
}